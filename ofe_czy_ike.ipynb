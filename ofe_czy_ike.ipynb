{
 "cells": [
  {
   "cell_type": "code",
   "execution_count": 89,
   "metadata": {},
   "outputs": [],
   "source": [
    "# Przygotowanie środowiska\n",
    "import pandas as pd\n",
    "import numpy as np\n",
    "import matplotlib.pyplot as plt"
   ]
  },
  {
   "cell_type": "code",
   "execution_count": 80,
   "metadata": {},
   "outputs": [],
   "source": [
    "# Globalne zmienne\n",
    "r = 0.025\n",
    "inflacja = 0.025\n",
    "belka = 0.19\n",
    "podatek_od_prywatyzacji = 0.15\n",
    "waloryzacja_emerytur = inflacja + 0.01\n",
    "\n",
    "# Zmienna dla konkretnego przypadku\n",
    "prognozowana_emerytura = 2000\n",
    "efektywny_pit = (prognozowana_emerytura*12 - 12*556 - 3091) * 0.17 / (prognozowana_emerytura*12)\n",
    "ofe = 10000\n",
    "do_emerytury = 10\n",
    "lat_na_emeryturze = 9"
   ]
  },
  {
   "cell_type": "code",
   "execution_count": 92,
   "metadata": {},
   "outputs": [
    {
     "data": {
      "text/plain": [
       "Text(0.5, 1.0, 'Stopy waloryzacji kapitału zgromadzonego w ZUS')"
      ]
     },
     "execution_count": 92,
     "metadata": {},
     "output_type": "execute_result"
    },
    {
     "data": {
      "image/png": "[encoded data removed]",
      "text/plain": [
       "<Figure size 432x288 with 1 Axes>"
      ]
     },
     "metadata": {
      "needs_background": "light"
     },
     "output_type": "display_data"
    }
   ],
   "source": [
    "# Historyczne wartości waloryzacji kapitału zgromadzonego w ZUS\n",
    "hist_waloryzacja = [1.1272, 1.0668, 1.0190, 1.0200, 1.0363, 1.0555, 1.0690, 1.1285, 1.1626, 1.0722, 1.0398, 1.0518, 1.0468, 1.0454, 1.0206, 1.0537, 1.0637, 1.0868, 1.0920]\n",
    "mean_hist_waloryzacja = np.mean(hist_waloryzacja)\n",
    "q40_hist_waloryzacja = np.quantile(hist_waloryzacja, 0.4)\n",
    "\n",
    "plt.plot([int(x) for x in range(2000, 2019)], hist_waloryzacja)\n",
    "plt.title('Stopy waloryzacji kapitału zgromadzonego w ZUS')"
   ]
  },
  {
   "cell_type": "code",
   "execution_count": 81,
   "metadata": {},
   "outputs": [
    {
     "name": "stdout",
     "output_type": "stream",
     "text": [
      "Zgromadzony kapitał na IKE wynosi 8556 PLN (po opodatkowaniu)\n"
     ]
    }
   ],
   "source": [
    "# Wariant 1: Prywatyzacja środków\n",
    "# Etap 1: Do emerytury\n",
    "\n",
    "# w 1. roku sprywatyzowania OFE wartość kapitału topnieje o 7.5%, reszta pracuje na inwestycji w ramach IKE bez podatku belki\n",
    "# w 2. roku wartość kapitału topnieje o kolejne 7.5%, ale pracuje na inwestycji w ramach IKE bez podatku Belki\n",
    "# w 3. i każdym kolejnym roku do emerytury wartość kapitału rośnie o oczekiwaną stopę zwrotu, bez podatku Belki\n",
    "NPV_IKE = ofe * (1 - podatek_od_prywatyzacji/2) * (1+r) * (1 - podatek_od_prywatyzacji/2) * (1+r) * np.power((1+r), do_emerytury-2)\n",
    "\n",
    "# W momencie wypłaty środków z IKE ich wartość nominalna jest wysoka, jednak wartość realna zjadana jest przez inflację, toteż wartość nominalna > realna. Deflator:\n",
    "NPV_IKE = NPV_IKE / np.power((1+inflacja), do_emerytury)\n",
    "print(\"Zgromadzony kapitał na IKE wynosi %d PLN (po opodatkowaniu)\" % NPV_IKE)"
   ]
  },
  {
   "cell_type": "code",
   "execution_count": 82,
   "metadata": {},
   "outputs": [
    {
     "name": "stdout",
     "output_type": "stream",
     "text": [
      "Efekt wybrania prywatyzacji:\n",
      "W pierwszym roku emerytury zwiększy nam emeryturę o 79.22 PLN\n",
      "W 8. roku emerytury zwiększy nam emeryturę o 76.33 PLN\n",
      "\n",
      "\n",
      "Jeśli umrzemy wcześniej niż średnia, wtedy niewykorzystany kapitał jest dziedziczony\n",
      "Jeśli przeżyjemy dłużej niż średnia, po wyczerpaniu środków z IKE emerytura wraca do bazowej wielkości\n",
      "\n",
      "\n",
      "Szanse: wyższy zwrot z inwestycji, niższa inflacja, zmiana zasad pobierania podatku Belki na bardziej korzystne dla konsumentów\n",
      "Zagrożenia: Ponowna grabież środków tym razem z IKE, kiepskie inwestycje, wysoka inflacja, podwyżka podatku Belki\n"
     ]
    },
    {
     "data": {
      "text/html": [
       "<div>\n",
       "<style scoped>\n",
       "    .dataframe tbody tr th:only-of-type {\n",
       "        vertical-align: middle;\n",
       "    }\n",
       "\n",
       "    .dataframe tbody tr th {\n",
       "        vertical-align: top;\n",
       "    }\n",
       "\n",
       "    .dataframe thead th {\n",
       "        text-align: right;\n",
       "    }\n",
       "</style>\n",
       "<table border=\"1\" class=\"dataframe\">\n",
       "  <thead>\n",
       "    <tr style=\"text-align: right;\">\n",
       "      <th></th>\n",
       "      <th>rok_emerytury</th>\n",
       "      <th>NPV_IKE</th>\n",
       "      <th>kapital_rok</th>\n",
       "      <th>IKE_dodatek_emerytura</th>\n",
       "    </tr>\n",
       "  </thead>\n",
       "  <tbody>\n",
       "    <tr>\n",
       "      <th>0</th>\n",
       "      <td>1</td>\n",
       "      <td>7570.310298</td>\n",
       "      <td>950.694444</td>\n",
       "      <td>79.22</td>\n",
       "    </tr>\n",
       "    <tr>\n",
       "      <th>1</th>\n",
       "      <td>2</td>\n",
       "      <td>6593.324826</td>\n",
       "      <td>946.288787</td>\n",
       "      <td>78.86</td>\n",
       "    </tr>\n",
       "    <tr>\n",
       "      <th>2</th>\n",
       "      <td>3</td>\n",
       "      <td>5625.231766</td>\n",
       "      <td>941.903547</td>\n",
       "      <td>78.49</td>\n",
       "    </tr>\n",
       "    <tr>\n",
       "      <th>3</th>\n",
       "      <td>4</td>\n",
       "      <td>4665.969682</td>\n",
       "      <td>937.538628</td>\n",
       "      <td>78.13</td>\n",
       "    </tr>\n",
       "    <tr>\n",
       "      <th>4</th>\n",
       "      <td>5</td>\n",
       "      <td>3715.477517</td>\n",
       "      <td>933.193936</td>\n",
       "      <td>77.77</td>\n",
       "    </tr>\n",
       "    <tr>\n",
       "      <th>5</th>\n",
       "      <td>6</td>\n",
       "      <td>2773.694588</td>\n",
       "      <td>928.869379</td>\n",
       "      <td>77.41</td>\n",
       "    </tr>\n",
       "    <tr>\n",
       "      <th>6</th>\n",
       "      <td>7</td>\n",
       "      <td>1840.560587</td>\n",
       "      <td>924.564863</td>\n",
       "      <td>77.05</td>\n",
       "    </tr>\n",
       "    <tr>\n",
       "      <th>7</th>\n",
       "      <td>8</td>\n",
       "      <td>916.015580</td>\n",
       "      <td>920.280294</td>\n",
       "      <td>76.69</td>\n",
       "    </tr>\n",
       "    <tr>\n",
       "      <th>8</th>\n",
       "      <td>9</td>\n",
       "      <td>0.000000</td>\n",
       "      <td>916.015580</td>\n",
       "      <td>76.33</td>\n",
       "    </tr>\n",
       "  </tbody>\n",
       "</table>\n",
       "</div>"
      ],
      "text/plain": [
       "   rok_emerytury      NPV_IKE  kapital_rok  IKE_dodatek_emerytura\n",
       "0              1  7570.310298   950.694444                  79.22\n",
       "1              2  6593.324826   946.288787                  78.86\n",
       "2              3  5625.231766   941.903547                  78.49\n",
       "3              4  4665.969682   937.538628                  78.13\n",
       "4              5  3715.477517   933.193936                  77.77\n",
       "5              6  2773.694588   928.869379                  77.41\n",
       "6              7  1840.560587   924.564863                  77.05\n",
       "7              8   916.015580   920.280294                  76.69\n",
       "8              9     0.000000   916.015580                  76.33"
      ]
     },
     "execution_count": 82,
     "metadata": {},
     "output_type": "execute_result"
    }
   ],
   "source": [
    "# Etap 2: Po emeryturze\n",
    "projekcja_IKE = pd.Series(range(1, lat_na_emeryturze + 1), name='rok_emerytury').to_frame()\n",
    "\n",
    "NPV_IKE_dyn = NPV_IKE\n",
    "NPV_IKE_list = list()\n",
    "kapital_rok = list()\n",
    "\n",
    "# Zakładamy, że na emeryturze kapitał pracuje nam na bezpiecznej lokacie (opodatkowanej podatkiem Belki)\n",
    "for rok in range(lat_na_emeryturze):\n",
    "    # Kapitał wypłacamy sobie proporcjonalnie do pozostałych lat na emeryturze - np. pozostało nam (statystycznie) 5 lat, więc wypłacamy sobie 1/5 tego co zostało\n",
    "    kapital_rok.append(NPV_IKE_dyn / (lat_na_emeryturze - rok))\n",
    "    # w międzyczasie, kapitał, który pozostał inwestujemy, ale zżera go nam też inflacja\n",
    "    NPV_IKE_dyn = (NPV_IKE_dyn - NPV_IKE_dyn/(lat_na_emeryturze - rok)) * (1 + r*(1-belka)) / (1+inflacja)\n",
    "    NPV_IKE_list.append(NPV_IKE_dyn)\n",
    "    \n",
    "projekcja_IKE['NPV_IKE'] = NPV_IKE_list\n",
    "projekcja_IKE['kapital_rok'] = kapital_rok\n",
    "projekcja_IKE['IKE_dodatek_emerytura'] = round(projekcja_IKE['kapital_rok']/12, 2)\n",
    "\n",
    "print(\"Efekt wybrania prywatyzacji:\")\n",
    "print(\"W pierwszym roku emerytury zwiększy nam emeryturę o {} PLN\".format(projekcja_IKE['IKE_dodatek_emerytura'].iloc[0]))\n",
    "print(\"W {}. roku emerytury zwiększy nam emeryturę o {} PLN\".format(projekcja_IKE.shape[0]-1, projekcja_IKE['IKE_dodatek_emerytura'].iloc[projekcja_IKE.shape[0]-1]))\n",
    "print(\"\\n\")\n",
    "print(\"Jeśli umrzemy wcześniej niż średnia, wtedy niewykorzystany kapitał jest dziedziczony\")\n",
    "print(\"Jeśli przeżyjemy dłużej niż średnia, po wyczerpaniu środków z IKE emerytura wraca do bazowej wielkości\")\n",
    "print(\"\\n\")\n",
    "print(\"Szanse: wyższy zwrot z inwestycji, niższa inflacja, zmiana zasad pobierania podatku Belki na bardziej korzystne dla konsumentów\")\n",
    "print(\"Zagrożenia: Ponowna grabież środków tym razem z IKE, kiepskie inwestycje, wysoka inflacja, podwyżka podatku Belki\")\n",
    "projekcja_IKE"
   ]
  },
  {
   "cell_type": "code",
   "execution_count": 83,
   "metadata": {},
   "outputs": [
    {
     "name": "stdout",
     "output_type": "stream",
     "text": [
      "Zgromadzony kapitał na ZUS wynosi 12991 PLN (przed opodatkowaniem)\n"
     ]
    }
   ],
   "source": [
    "# Wariant 2: Przeniesienie środków do ZUS\n",
    "# Etap 1: Do emerytury\n",
    "\n",
    "# Środki z OFE zostają przekazane do ZUS, gdzie korzystają z corocznej waloryzacji kapitału, która historycznie była wysoka\n",
    "# Zeszłoroczna waloryzacja była wyższa niż średnia\n",
    "# Do obliczeń założymy konserwatywnie nie średnią, ani nie medianę (jeszcze niższa), tylko 40 percentyl tej wielkości od 2000 roku.\n",
    "# Stopa waloryzacji jest pochodną rozwoju gospodarczego, założenie 40 percentyla to założenie o łagodnym, acz długotrwałym spowolnieniu gospodarczym.\n",
    "# To jak najbardziej realne założenie, nieco gorsze od tego co wszyscy się spodziewamy. Na zapas.\n",
    "\n",
    "# Środki z OFE zapisane są na konto w ZUS, są waloryzowane co roku, aż do momentu przejścia na emeryturę.\n",
    "# Ich realna wartość będzie nieco zmniejszona przez inflację, co też jest uwzględnione\n",
    "NPV_ZUS = ofe * np.power(q40_hist_waloryzacja, do_emerytury) / np.power((1+inflacja), do_emerytury)  #  * (1-efektywny_pit)\n",
    "\n",
    "# Uwaga: od tego kapitału będzie trzeba zapłacić podatek\n",
    "print(\"Zgromadzony kapitał na ZUS wynosi %d PLN (przed opodatkowaniem)\" % NPV_ZUS)"
   ]
  },
  {
   "cell_type": "code",
   "execution_count": 84,
   "metadata": {},
   "outputs": [
    {
     "name": "stdout",
     "output_type": "stream",
     "text": [
      "Efekt wybrania ZUSu:\n",
      "W pierwszym roku emerytury zwiększy nam emeryturę o 116.48 PLN\n",
      "W 8. roku emerytury zwiększy nam emeryturę o 125.89 PLN\n",
      "\n",
      "\n",
      "Jeśli umrzemy wcześniej, wtedy niewykorzystany kapitał nie jest dziedziczony\n",
      "Jeśli przeżyjemy dłużej, po wyczerpaniu środków emerytura dalej jest waloryzowana o stopę nieco wyższą niż inflacja\n",
      "\n",
      "\n",
      "Szanse: podwyższenie kwoty wolnej od podatku, obniżenie PIT, przeciętny lub dobry rozwój gospodarki Polskiej\n",
      "Zagrożenia: Ustawowe obniżenie emerytur, zawieszenie lub zmiana zasad waloryzacji kapitału, problemy z ZUS\n"
     ]
    },
    {
     "data": {
      "text/html": [
       "<div>\n",
       "<style scoped>\n",
       "    .dataframe tbody tr th:only-of-type {\n",
       "        vertical-align: middle;\n",
       "    }\n",
       "\n",
       "    .dataframe tbody tr th {\n",
       "        vertical-align: top;\n",
       "    }\n",
       "\n",
       "    .dataframe thead th {\n",
       "        text-align: right;\n",
       "    }\n",
       "</style>\n",
       "<table border=\"1\" class=\"dataframe\">\n",
       "  <thead>\n",
       "    <tr style=\"text-align: right;\">\n",
       "      <th></th>\n",
       "      <th>rok_emerytury</th>\n",
       "      <th>NPV_ZUS</th>\n",
       "      <th>kapital_rok</th>\n",
       "      <th>ZUS_dodatek_emerytura</th>\n",
       "    </tr>\n",
       "  </thead>\n",
       "  <tbody>\n",
       "    <tr>\n",
       "      <th>0</th>\n",
       "      <td>1</td>\n",
       "      <td>14926.719990</td>\n",
       "      <td>1397.762240</td>\n",
       "      <td>116.48</td>\n",
       "    </tr>\n",
       "    <tr>\n",
       "      <th>1</th>\n",
       "      <td>2</td>\n",
       "      <td>13188.303211</td>\n",
       "      <td>1411.398944</td>\n",
       "      <td>117.62</td>\n",
       "    </tr>\n",
       "    <tr>\n",
       "      <th>2</th>\n",
       "      <td>3</td>\n",
       "      <td>11414.545358</td>\n",
       "      <td>1425.168690</td>\n",
       "      <td>118.76</td>\n",
       "    </tr>\n",
       "    <tr>\n",
       "      <th>3</th>\n",
       "      <td>4</td>\n",
       "      <td>9604.922313</td>\n",
       "      <td>1439.072775</td>\n",
       "      <td>119.92</td>\n",
       "    </tr>\n",
       "    <tr>\n",
       "      <th>4</th>\n",
       "      <td>5</td>\n",
       "      <td>7758.903098</td>\n",
       "      <td>1453.112509</td>\n",
       "      <td>121.09</td>\n",
       "    </tr>\n",
       "    <tr>\n",
       "      <th>5</th>\n",
       "      <td>6</td>\n",
       "      <td>5875.949785</td>\n",
       "      <td>1467.289217</td>\n",
       "      <td>122.27</td>\n",
       "    </tr>\n",
       "    <tr>\n",
       "      <th>6</th>\n",
       "      <td>7</td>\n",
       "      <td>3955.517416</td>\n",
       "      <td>1481.604233</td>\n",
       "      <td>123.47</td>\n",
       "    </tr>\n",
       "    <tr>\n",
       "      <th>7</th>\n",
       "      <td>8</td>\n",
       "      <td>1997.053915</td>\n",
       "      <td>1496.058909</td>\n",
       "      <td>124.67</td>\n",
       "    </tr>\n",
       "    <tr>\n",
       "      <th>8</th>\n",
       "      <td>9</td>\n",
       "      <td>0.000000</td>\n",
       "      <td>1510.654606</td>\n",
       "      <td>125.89</td>\n",
       "    </tr>\n",
       "  </tbody>\n",
       "</table>\n",
       "</div>"
      ],
      "text/plain": [
       "   rok_emerytury       NPV_ZUS  kapital_rok  ZUS_dodatek_emerytura\n",
       "0              1  14926.719990  1397.762240                 116.48\n",
       "1              2  13188.303211  1411.398944                 117.62\n",
       "2              3  11414.545358  1425.168690                 118.76\n",
       "3              4   9604.922313  1439.072775                 119.92\n",
       "4              5   7758.903098  1453.112509                 121.09\n",
       "5              6   5875.949785  1467.289217                 122.27\n",
       "6              7   3955.517416  1481.604233                 123.47\n",
       "7              8   1997.053915  1496.058909                 124.67\n",
       "8              9      0.000000  1510.654606                 125.89"
      ]
     },
     "execution_count": 84,
     "metadata": {},
     "output_type": "execute_result"
    }
   ],
   "source": [
    "# kontynuacja: co po emeryturze?\n",
    "projekcja_ZUS = pd.Series(range(1, lat_na_emeryturze + 1), name='rok_emerytury').to_frame()\n",
    "\n",
    "# Zakładamy, że na emeryturze kapitał już nie jest waloryzowany. Zamiast tego waloryzowana jest emerytura\n",
    "# Waloryzacja emerytury historycznie była zauważalnie niższa niż waloryzacja kapitału, dlatego tutaj przyjmujemy znacznie mniejsze wartości\n",
    "# Dobra wiadomość jest taka, że waloryzacja emerytury nie może być niższa niż stopa inflacji statystycznego gospodarstwa emerytów powiększona o chyba 20% wzrostu gospodarczego.\n",
    "\n",
    "# Tutaj wracamy do wartości nominalnej, bo od niej liczy się podatek\n",
    "NPV_ZUS_dyn = NPV_ZUS * np.power((1+inflacja), do_emerytury) \n",
    "NPV_ZUS_list = list()\n",
    "kapital_rok = list()\n",
    "for rok in range(lat_na_emeryturze):\n",
    "    # Emerytura jest obliczona w taki sposób, że ZUS wypłaca nam nasz kapitał proporcjonalnie do pozostałych lat na emeryturze\n",
    "    # tutaj używamy wartości nominalnych, by móc poprawnie wyliczyć efektywny PIT) A POTEM ponownie stosujemy deflator sprzed emerytury\n",
    "    kapital_rok.append(NPV_ZUS_dyn / (lat_na_emeryturze - rok) * (1-efektywny_pit) / np.power((1+inflacja), do_emerytury))\n",
    "    # w międzyczasie, kapitał, który pozostał inwestujemy, ale zżera go nam też inflacja\n",
    "    NPV_ZUS_dyn = (NPV_ZUS_dyn - NPV_ZUS_dyn/(lat_na_emeryturze - rok)) * (1+waloryzacja_emerytur) / (1+inflacja)\n",
    "    NPV_ZUS_list.append(NPV_ZUS_dyn)\n",
    "    \n",
    "projekcja_ZUS['NPV_ZUS'] = NPV_ZUS_list\n",
    "projekcja_ZUS['kapital_rok'] = kapital_rok\n",
    "projekcja_ZUS['ZUS_dodatek_emerytura'] = round(projekcja_ZUS['kapital_rok']/12, 2)\n",
    "\n",
    "print(\"Efekt wybrania ZUSu:\")\n",
    "print(\"W pierwszym roku emerytury zwiększy nam emeryturę o {} PLN\".format(projekcja_ZUS['ZUS_dodatek_emerytura'].iloc[0]))\n",
    "print(\"W {}. roku emerytury zwiększy nam emeryturę o {} PLN\".format(projekcja_ZUS.shape[0]-1, projekcja_ZUS['ZUS_dodatek_emerytura'].iloc[projekcja_ZUS.shape[0]-1]))\n",
    "print(\"\\n\")\n",
    "print(\"Jeśli umrzemy wcześniej, wtedy niewykorzystany kapitał nie jest dziedziczony\")\n",
    "print(\"Jeśli przeżyjemy dłużej, po wyczerpaniu środków emerytura dalej jest waloryzowana o stopę nieco wyższą niż inflacja\")\n",
    "print(\"\\n\")\n",
    "print(\"Szanse: podwyższenie kwoty wolnej od podatku, obniżenie PIT, przeciętny lub dobry rozwój gospodarki Polskiej\")\n",
    "print(\"Zagrożenia: Ustawowe obniżenie emerytur, zawieszenie lub zmiana zasad waloryzacji kapitału, problemy z ZUS\")\n",
    "\n",
    "projekcja_ZUS"
   ]
  },
  {
   "cell_type": "code",
   "execution_count": 90,
   "metadata": {},
   "outputs": [
    {
     "data": {
      "text/plain": [
       "(0, 128.368)"
      ]
     },
     "execution_count": 90,
     "metadata": {},
     "output_type": "execute_result"
    },
    {
     "data": {
      "image/png": "[encoded data removed]",
      "text/plain": [
       "<Figure size 432x288 with 1 Axes>"
      ]
     },
     "metadata": {
      "needs_background": "light"
     },
     "output_type": "display_data"
    }
   ],
   "source": [
    "# Porównanie OFE->IKE vs. OFE->ZUS\n",
    "plt.plot(projekcja_IKE['rok_emerytury'], projekcja_IKE['IKE_dodatek_emerytura'])\n",
    "plt.plot(projekcja_IKE['rok_emerytury'], projekcja_ZUS['ZUS_dodatek_emerytura'])\n",
    "plt.title('Dodatkowe pieniądze na emeryturę (po opodatkowaniu)')\n",
    "plt.legend()\n",
    "plt.ylim(0)"
   ]
  },
  {
   "cell_type": "code",
   "execution_count": 91,
   "metadata": {},
   "outputs": [
    {
     "name": "stdout",
     "output_type": "stream",
     "text": [
      "Wybranie ZUS zaowocuje o 55.7% wyższym dodatkiem do emerytury\n"
     ]
    }
   ],
   "source": [
    "# Podsumowanie\n",
    "suma_dodatku_od_IKE = sum(projekcja_IKE['IKE_dodatek_emerytura'])*12\n",
    "suma_dodatku_od_ZUS = sum(projekcja_ZUS['ZUS_dodatek_emerytura'])*12\n",
    "\n",
    "stosunek_ZUS_do_IKE = round((suma_dodatku_od_ZUS/suma_dodatku_od_IKE - 1)*100, 1)\n",
    "\n",
    "if suma_dodatku_od_ZUS > suma_dodatku_od_IKE:\n",
    "    print(\"Wybranie ZUS zaowocuje o {}% wyższym dodatkiem do emerytury\".format(stosunek_ZUS_do_IKE))\n",
    "elif suma_dodatku_od_ZUS < suma_dodatku_od_IKE:\n",
    "    print(\"Wybranie ZUS zaowocuje o {}% niższym dodatkiem do emerytury\".format(stosunek_ZUS_do_IKE))\n",
    "else:\n",
    "    print(\"ganz egal\")"
   ]
  }
 ],
 "metadata": {
  "kernelspec": {
   "display_name": "Python 3",
   "language": "python",
   "name": "python3"
  },
  "language_info": {
   "codemirror_mode": {
    "name": "ipython",
    "version": 3
   },
   "file_extension": ".py",
   "mimetype": "text/x-python",
   "name": "python",
   "nbconvert_exporter": "python",
   "pygments_lexer": "ipython3",
   "version": "3.7.3"
  }
 },
 "nbformat": 4,
 "nbformat_minor": 2
}
