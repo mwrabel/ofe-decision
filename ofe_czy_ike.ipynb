{
 "cells": [
  {
   "cell_type": "code",
   "execution_count": 1,
   "metadata": {},
   "outputs": [],
   "source": [
    "# Przygotowanie środowiska\n",
    "import pandas as pd\n",
    "import numpy as np\n",
    "import matplotlib.pyplot as plt"
   ]
  },
  {
   "cell_type": "code",
   "execution_count": 2,
   "metadata": {},
   "outputs": [],
   "source": [
    "# Globalne zmienne\n",
    "r = 0.04  # stopa zwrotu z IKE\n",
    "inflacja = 0.025\n",
    "belka = 0.19\n",
    "podatek_od_prywatyzacji = 0.15\n",
    "stawka_pit = 0.17  # na emeryturze\n",
    "waloryzacja_emerytur = inflacja + 0.2*0.04  # oficjalna inflacja + 20% realnego wzrostu gospodarczego\n",
    "\n",
    "# Zmienna dla konkretnego przypadku\n",
    "prognozowana_emerytura_brutto = 3000\n",
    "skladka_zdrowotna = prognozowana_emerytura_brutto * 0.09\n",
    "zaliczka_pit = prognozowana_emerytura_brutto * stawka_pit - 556.02/12 - prognozowana_emerytura_brutto * 0.0775\n",
    "prognozowana_emerytura_netto = prognozowana_emerytura_brutto - skladka_zdrowotna - zaliczka_pit\n",
    "efektywna_stawka_opodatkowania = 1 - prognozowana_emerytura_netto / prognozowana_emerytura_brutto\n",
    "\n",
    "# TODO zmienny efektywny pit - (inflacja rośnie, to podatek się zmienia)\n",
    "ofe = 32000\n",
    "kobieta = 1\n",
    "do_emerytury = 9\n",
    "lat_na_emeryturze_wg_zus = 18+5*kobieta  # https://www.money.pl/emerytury/emerytury-gus-ma-jednoczesnie-dobra-i-zla-wiadomosc-dane-dotycza-sredniej-dlugosci-zycia-6363469538014849a.html\n",
    "oczekiwana_dlugosc_zycia = 84  # jesli dozyje do emerytury  # https://stat.gov.pl/obszary-tematyczne/ludnosc/trwanie-zycia/trwanie-zycia-w-2018-r-,2,13.html\n",
    "oczekiwana_liczba_lat_na_emeryturze = oczekiwana_dlugosc_zycia - 65 + 5*kobieta"
   ]
  },
  {
   "cell_type": "code",
   "execution_count": 3,
   "metadata": {},
   "outputs": [
    {
     "data": {
      "text/plain": [
       "Text(0.5, 1.0, 'Stopy waloryzacji kapitału zgromadzonego w ZUS')"
      ]
     },
     "execution_count": 3,
     "metadata": {},
     "output_type": "execute_result"
    },
    {
     "data": {
      "image/png": "[encoded data removed]",
      "text/plain": [
       "<Figure size 432x288 with 1 Axes>"
      ]
     },
     "metadata": {
      "needs_background": "light"
     },
     "output_type": "display_data"
    }
   ],
   "source": [
    "# Historyczne wartości waloryzacji kapitału zgromadzonego w ZUS\n",
    "hist_waloryzacja = [1.1272, 1.0668, 1.0190, 1.0200, 1.0363, 1.0555, 1.0690, 1.1285, 1.1626, 1.0722, 1.0398, 1.0518, 1.0468, 1.0454, 1.0206, 1.0537, 1.0637, 1.0868, 1.0920]\n",
    "mean_hist_waloryzacja = np.mean(hist_waloryzacja)\n",
    "q40_hist_waloryzacja = np.quantile(hist_waloryzacja, 0.4)\n",
    "avg_geom_hist_waloryzacja = np.power(np.prod(hist_waloryzacja), 1/len(hist_waloryzacja))\n",
    "\n",
    "plt.plot([int(x) for x in range(2000, 2019)], hist_waloryzacja)\n",
    "plt.title('Stopy waloryzacji kapitału zgromadzonego w ZUS')"
   ]
  },
  {
   "cell_type": "code",
   "execution_count": 4,
   "metadata": {},
   "outputs": [
    {
     "name": "stdout",
     "output_type": "stream",
     "text": [
      "Zgromadzony kapitał na IKE w momencie przejścia na emeryturę wynosi 31204 PLN na dzisiejsze pieniądze (po opodatkowaniu i w cenach z dzisiaj)\n"
     ]
    }
   ],
   "source": [
    "# Wariant 1: Prywatyzacja środków\n",
    "# Etap 1: Do emerytury\n",
    "\n",
    "# w 1. roku sprywatyzowania OFE wartość kapitału topnieje o 7.5%, reszta pracuje na inwestycji w ramach IKE bez podatku belki\n",
    "# w 2. roku wartość kapitału topnieje o kolejne 7.5%, ale pracuje na inwestycji w ramach IKE bez podatku Belki\n",
    "# w 3. i każdym kolejnym roku do emerytury wartość kapitału rośnie o oczekiwaną stopę zwrotu, bez podatku Belki\n",
    "NPV_IKE = ofe * (1 - podatek_od_prywatyzacji/2) * (1+r) * (1 - podatek_od_prywatyzacji/2) * (1+r) * np.power((1+r), do_emerytury-2)\n",
    "\n",
    "# W momencie wypłaty środków z IKE ich wartość nominalna jest wysoka, jednak wartość realna zjadana jest przez inflację, toteż wartość nominalna > realna. Deflator:\n",
    "NPV_IKE = NPV_IKE / np.power((1+inflacja), do_emerytury)\n",
    "print(\"Zgromadzony kapitał na IKE w momencie przejścia na emeryturę wynosi %d PLN na dzisiejsze pieniądze (po opodatkowaniu i w cenach z dzisiaj)\" % NPV_IKE)"
   ]
  },
  {
   "cell_type": "code",
   "execution_count": 5,
   "metadata": {},
   "outputs": [
    {
     "name": "stdout",
     "output_type": "stream",
     "text": [
      "Efekt wybrania prywatyzacji:\n",
      "W pierwszym roku emerytury zwiększy nam emeryturę o 108.35 PLN\n",
      "W 24. roku emerytury zwiększy nam emeryturę o 127.84 PLN\n",
      "\n",
      "\n",
      "Jeśli umrzemy wcześniej niż średnia, wtedy niewykorzystany kapitał jest dziedziczony\n",
      "Jeśli przeżyjemy dłużej niż średnia, po wyczerpaniu środków z IKE emerytura wraca do bazowej wielkości\n",
      "\n",
      "\n",
      "Szanse: wyższy zwrot z inwestycji, niższa inflacja, zmiana zasad pobierania podatku Belki na bardziej korzystne dla konsumentów\n",
      "Zagrożenia: Ponowna grabież środków tym razem z IKE, kiepskie inwestycje, wysoka inflacja, podwyżka podatku Belki\n"
     ]
    },
    {
     "data": {
      "text/html": [
       "<div>\n",
       "<style scoped>\n",
       "    .dataframe tbody tr th:only-of-type {\n",
       "        vertical-align: middle;\n",
       "    }\n",
       "\n",
       "    .dataframe tbody tr th {\n",
       "        vertical-align: top;\n",
       "    }\n",
       "\n",
       "    .dataframe thead th {\n",
       "        text-align: right;\n",
       "    }\n",
       "</style>\n",
       "<table border=\"1\" class=\"dataframe\">\n",
       "  <thead>\n",
       "    <tr style=\"text-align: right;\">\n",
       "      <th></th>\n",
       "      <th>rok_emerytury</th>\n",
       "      <th>NPV_IKE</th>\n",
       "      <th>kapital_rok</th>\n",
       "      <th>IKE_dodatek_emerytura</th>\n",
       "    </tr>\n",
       "  </thead>\n",
       "  <tbody>\n",
       "    <tr>\n",
       "      <td>0</td>\n",
       "      <td>1</td>\n",
       "      <td>30120.309751</td>\n",
       "      <td>1300.191933</td>\n",
       "      <td>108.35</td>\n",
       "    </tr>\n",
       "    <tr>\n",
       "      <td>1</td>\n",
       "      <td>2</td>\n",
       "      <td>29018.730491</td>\n",
       "      <td>1309.578685</td>\n",
       "      <td>109.13</td>\n",
       "    </tr>\n",
       "    <tr>\n",
       "      <td>2</td>\n",
       "      <td>3</td>\n",
       "      <td>27899.675589</td>\n",
       "      <td>1319.033204</td>\n",
       "      <td>109.92</td>\n",
       "    </tr>\n",
       "    <tr>\n",
       "      <td>3</td>\n",
       "      <td>4</td>\n",
       "      <td>26762.950130</td>\n",
       "      <td>1328.555980</td>\n",
       "      <td>110.71</td>\n",
       "    </tr>\n",
       "    <tr>\n",
       "      <td>4</td>\n",
       "      <td>5</td>\n",
       "      <td>25608.357297</td>\n",
       "      <td>1338.147507</td>\n",
       "      <td>111.51</td>\n",
       "    </tr>\n",
       "    <tr>\n",
       "      <td>5</td>\n",
       "      <td>6</td>\n",
       "      <td>24435.698347</td>\n",
       "      <td>1347.808279</td>\n",
       "      <td>112.32</td>\n",
       "    </tr>\n",
       "    <tr>\n",
       "      <td>6</td>\n",
       "      <td>7</td>\n",
       "      <td>23244.772604</td>\n",
       "      <td>1357.538797</td>\n",
       "      <td>113.13</td>\n",
       "    </tr>\n",
       "    <tr>\n",
       "      <td>7</td>\n",
       "      <td>8</td>\n",
       "      <td>22035.377434</td>\n",
       "      <td>1367.339565</td>\n",
       "      <td>113.94</td>\n",
       "    </tr>\n",
       "    <tr>\n",
       "      <td>8</td>\n",
       "      <td>9</td>\n",
       "      <td>20807.308228</td>\n",
       "      <td>1377.211090</td>\n",
       "      <td>114.77</td>\n",
       "    </tr>\n",
       "    <tr>\n",
       "      <td>9</td>\n",
       "      <td>10</td>\n",
       "      <td>19560.358388</td>\n",
       "      <td>1387.153882</td>\n",
       "      <td>115.60</td>\n",
       "    </tr>\n",
       "    <tr>\n",
       "      <td>10</td>\n",
       "      <td>11</td>\n",
       "      <td>18294.319303</td>\n",
       "      <td>1397.168456</td>\n",
       "      <td>116.43</td>\n",
       "    </tr>\n",
       "    <tr>\n",
       "      <td>11</td>\n",
       "      <td>12</td>\n",
       "      <td>17008.980336</td>\n",
       "      <td>1407.255331</td>\n",
       "      <td>117.27</td>\n",
       "    </tr>\n",
       "    <tr>\n",
       "      <td>12</td>\n",
       "      <td>13</td>\n",
       "      <td>15704.128804</td>\n",
       "      <td>1417.415028</td>\n",
       "      <td>118.12</td>\n",
       "    </tr>\n",
       "    <tr>\n",
       "      <td>13</td>\n",
       "      <td>14</td>\n",
       "      <td>14379.549957</td>\n",
       "      <td>1427.648073</td>\n",
       "      <td>118.97</td>\n",
       "    </tr>\n",
       "    <tr>\n",
       "      <td>14</td>\n",
       "      <td>15</td>\n",
       "      <td>13035.026964</td>\n",
       "      <td>1437.954996</td>\n",
       "      <td>119.83</td>\n",
       "    </tr>\n",
       "    <tr>\n",
       "      <td>15</td>\n",
       "      <td>16</td>\n",
       "      <td>11670.340889</td>\n",
       "      <td>1448.336329</td>\n",
       "      <td>120.69</td>\n",
       "    </tr>\n",
       "    <tr>\n",
       "      <td>16</td>\n",
       "      <td>17</td>\n",
       "      <td>10285.270675</td>\n",
       "      <td>1458.792611</td>\n",
       "      <td>121.57</td>\n",
       "    </tr>\n",
       "    <tr>\n",
       "      <td>17</td>\n",
       "      <td>18</td>\n",
       "      <td>8879.593125</td>\n",
       "      <td>1469.324382</td>\n",
       "      <td>122.44</td>\n",
       "    </tr>\n",
       "    <tr>\n",
       "      <td>18</td>\n",
       "      <td>19</td>\n",
       "      <td>7453.082880</td>\n",
       "      <td>1479.932188</td>\n",
       "      <td>123.33</td>\n",
       "    </tr>\n",
       "    <tr>\n",
       "      <td>19</td>\n",
       "      <td>20</td>\n",
       "      <td>6005.512402</td>\n",
       "      <td>1490.616576</td>\n",
       "      <td>124.22</td>\n",
       "    </tr>\n",
       "    <tr>\n",
       "      <td>20</td>\n",
       "      <td>21</td>\n",
       "      <td>4536.651954</td>\n",
       "      <td>1501.378101</td>\n",
       "      <td>125.11</td>\n",
       "    </tr>\n",
       "    <tr>\n",
       "      <td>21</td>\n",
       "      <td>22</td>\n",
       "      <td>3046.269579</td>\n",
       "      <td>1512.217318</td>\n",
       "      <td>126.02</td>\n",
       "    </tr>\n",
       "    <tr>\n",
       "      <td>22</td>\n",
       "      <td>23</td>\n",
       "      <td>1534.131080</td>\n",
       "      <td>1523.134789</td>\n",
       "      <td>126.93</td>\n",
       "    </tr>\n",
       "    <tr>\n",
       "      <td>23</td>\n",
       "      <td>24</td>\n",
       "      <td>0.000000</td>\n",
       "      <td>1534.131080</td>\n",
       "      <td>127.84</td>\n",
       "    </tr>\n",
       "  </tbody>\n",
       "</table>\n",
       "</div>"
      ],
      "text/plain": [
       "    rok_emerytury       NPV_IKE  kapital_rok  IKE_dodatek_emerytura\n",
       "0               1  30120.309751  1300.191933                 108.35\n",
       "1               2  29018.730491  1309.578685                 109.13\n",
       "2               3  27899.675589  1319.033204                 109.92\n",
       "3               4  26762.950130  1328.555980                 110.71\n",
       "4               5  25608.357297  1338.147507                 111.51\n",
       "5               6  24435.698347  1347.808279                 112.32\n",
       "6               7  23244.772604  1357.538797                 113.13\n",
       "7               8  22035.377434  1367.339565                 113.94\n",
       "8               9  20807.308228  1377.211090                 114.77\n",
       "9              10  19560.358388  1387.153882                 115.60\n",
       "10             11  18294.319303  1397.168456                 116.43\n",
       "11             12  17008.980336  1407.255331                 117.27\n",
       "12             13  15704.128804  1417.415028                 118.12\n",
       "13             14  14379.549957  1427.648073                 118.97\n",
       "14             15  13035.026964  1437.954996                 119.83\n",
       "15             16  11670.340889  1448.336329                 120.69\n",
       "16             17  10285.270675  1458.792611                 121.57\n",
       "17             18   8879.593125  1469.324382                 122.44\n",
       "18             19   7453.082880  1479.932188                 123.33\n",
       "19             20   6005.512402  1490.616576                 124.22\n",
       "20             21   4536.651954  1501.378101                 125.11\n",
       "21             22   3046.269579  1512.217318                 126.02\n",
       "22             23   1534.131080  1523.134789                 126.93\n",
       "23             24      0.000000  1534.131080                 127.84"
      ]
     },
     "execution_count": 5,
     "metadata": {},
     "output_type": "execute_result"
    }
   ],
   "source": [
    "# Etap 2: Po emeryturze\n",
    "projekcja_IKE = pd.Series(range(1, oczekiwana_liczba_lat_na_emeryturze + 1), name='rok_emerytury').to_frame()\n",
    "\n",
    "NPV_IKE_dyn = NPV_IKE\n",
    "NPV_IKE_list = list()\n",
    "kapital_rok = list()\n",
    "\n",
    "# Zakładamy, że na emeryturze kapitał pracuje nam na bezpiecznej lokacie (opodatkowanej podatkiem Belki)\n",
    "for rok in range(oczekiwana_liczba_lat_na_emeryturze):\n",
    "    # Kapitał wypłacamy sobie proporcjonalnie do pozostałych lat na emeryturze - np. pozostało nam (statystycznie) 5 lat, więc wypłacamy sobie 1/5 tego co zostało\n",
    "    kapital_rok.append(NPV_IKE_dyn / (oczekiwana_liczba_lat_na_emeryturze - rok))\n",
    "    # w międzyczasie, kapitał, który pozostał inwestujemy, ale zżera go nam też inflacja\n",
    "    NPV_IKE_dyn = (NPV_IKE_dyn - NPV_IKE_dyn/(oczekiwana_liczba_lat_na_emeryturze - rok)) * (1 + r*(1-belka)) / (1+inflacja)\n",
    "    NPV_IKE_list.append(NPV_IKE_dyn)\n",
    "    \n",
    "projekcja_IKE['NPV_IKE'] = NPV_IKE_list\n",
    "projekcja_IKE['kapital_rok'] = kapital_rok\n",
    "projekcja_IKE['IKE_dodatek_emerytura'] = round(projekcja_IKE['kapital_rok']/12, 2)\n",
    "\n",
    "print(\"Efekt wybrania prywatyzacji:\")\n",
    "print(\"W pierwszym roku emerytury zwiększy nam emeryturę o {} PLN\".format(projekcja_IKE['IKE_dodatek_emerytura'].iloc[0]))\n",
    "print(\"W {}. roku emerytury zwiększy nam emeryturę o {} PLN\".format(projekcja_IKE.shape[0], projekcja_IKE['IKE_dodatek_emerytura'].iloc[projekcja_IKE.shape[0]-1]))\n",
    "print(\"\\n\")\n",
    "print(\"Jeśli umrzemy wcześniej niż średnia, wtedy niewykorzystany kapitał jest dziedziczony\")\n",
    "print(\"Jeśli przeżyjemy dłużej niż średnia, po wyczerpaniu środków z IKE emerytura wraca do bazowej wielkości\")\n",
    "print(\"\\n\")\n",
    "print(\"Szanse: wyższy zwrot z inwestycji, niższa inflacja, zmiana zasad pobierania podatku Belki na bardziej korzystne dla konsumentów\")\n",
    "print(\"Zagrożenia: Ponowna grabież środków tym razem z IKE, kiepskie inwestycje, wysoka inflacja, podwyżka podatku Belki\")\n",
    "projekcja_IKE"
   ]
  },
  {
   "cell_type": "code",
   "execution_count": 6,
   "metadata": {},
   "outputs": [
    {
     "name": "stdout",
     "output_type": "stream",
     "text": [
      "Zgromadzony kapitał na ZUS w momencie przejścia na emeryturę wynosi 40499 PLN na dzisiejsze pieniądze (przed opodatkowaniem)\n"
     ]
    }
   ],
   "source": [
    "# Wariant 2: Przeniesienie środków do ZUS\n",
    "# Etap 1: Do emerytury\n",
    "\n",
    "# Środki z OFE zostają przekazane do ZUS, gdzie korzystają z corocznej waloryzacji kapitału, która historycznie była wysoka\n",
    "# Zeszłoroczna waloryzacja była wyższa niż średnia\n",
    "# Do obliczeń założymy konserwatywnie nie średnią, ani nie medianę (jeszcze niższa), tylko 40 percentyl tej wielkości od 2000 roku.\n",
    "# Stopa waloryzacji jest pochodną rozwoju gospodarczego, założenie 40 percentyla to założenie o łagodnym, acz długotrwałym spowolnieniu gospodarczym.\n",
    "# To jak najbardziej realne założenie, nieco gorsze od tego co wszyscy się spodziewamy. Na zapas.\n",
    "\n",
    "# Środki z OFE zapisane są na konto w ZUS, są waloryzowane co roku, aż do momentu przejścia na emeryturę.\n",
    "# Ich realna wartość będzie nieco zmniejszona przez inflację, co też jest uwzględnione\n",
    "NPV_ZUS = ofe * np.power(q40_hist_waloryzacja, do_emerytury) / np.power((1+inflacja), do_emerytury)\n",
    "\n",
    "# Uwaga: od tego kapitału będzie trzeba zapłacić podatek\n",
    "print(\"Zgromadzony kapitał na ZUS w momencie przejścia na emeryturę wynosi %d PLN na dzisiejsze pieniądze (przed opodatkowaniem)\" % NPV_ZUS)"
   ]
  },
  {
   "cell_type": "code",
   "execution_count": 7,
   "metadata": {},
   "outputs": [
    {
     "name": "stdout",
     "output_type": "stream",
     "text": [
      "Efekt wybrania ZUSu:\n",
      "W pierwszym roku emerytury zwiększy nam emeryturę o 122.22 PLN\n",
      "W 23. roku emerytury zwiększy nam emeryturę o 145.02 PLN\n",
      "\n",
      "\n",
      "Jeśli umrzemy wcześniej, wtedy niewykorzystany kapitał nie jest dziedziczony\n",
      "Jeśli przeżyjemy dłużej, po wyczerpaniu środków emerytura dalej jest waloryzowana o stopę nieco wyższą niż inflacja\n",
      "\n",
      "\n",
      "Szanse: podwyższenie kwoty wolnej od podatku, obniżenie PIT, przeciętny lub dobry rozwój gospodarki Polski\n",
      "Zagrożenia: Ustawowe obniżenie emerytur, zawieszenie lub zmiana zasad waloryzacji kapitału, problemy z ZUS\n"
     ]
    }
   ],
   "source": [
    "# kontynuacja: co po emeryturze?\n",
    "projekcja_ZUS = pd.Series(range(1, lat_na_emeryturze_wg_zus + 1), name='rok_emerytury').to_frame()\n",
    "\n",
    "# Zakładamy, że na emeryturze kapitał już nie jest waloryzowany. Zamiast tego waloryzowana jest emerytura\n",
    "# Waloryzacja emerytury historycznie była zauważalnie niższa niż waloryzacja kapitału, dlatego tutaj przyjmujemy znacznie mniejsze wartości\n",
    "# Dobra wiadomość jest taka, że waloryzacja emerytury nie może być niższa niż stopa inflacji statystycznego gospodarstwa emerytów powiększona o chyba 20% wzrostu gospodarczego.\n",
    "\n",
    "# Tutaj wracamy do wartości nominalnej, bo od niej liczy się podatek\n",
    "NPV_ZUS_dyn = NPV_ZUS * np.power((1+inflacja), do_emerytury) \n",
    "NPV_ZUS_list = list()\n",
    "kapital_rok = list()\n",
    "for rok in range(lat_na_emeryturze_wg_zus):\n",
    "    # Emerytura jest obliczona w taki sposób, że ZUS wypłaca nam nasz kapitał proporcjonalnie do pozostałych lat na emeryturze\n",
    "    # tutaj używamy wartości nominalnych, by móc poprawnie wyliczyć efektywny PIT) A POTEM ponownie stosujemy deflator sprzed emerytury\n",
    "    kapital_rok.append(NPV_ZUS_dyn / (lat_na_emeryturze_wg_zus - rok) * (1-efektywna_stawka_opodatkowania) / np.power((1+inflacja), do_emerytury))\n",
    "    # w międzyczasie, kapitał, który pozostał inwestujemy, ale zżera go nam też inflacja\n",
    "    NPV_ZUS_dyn = (NPV_ZUS_dyn - NPV_ZUS_dyn/(lat_na_emeryturze_wg_zus - rok)) * (1+waloryzacja_emerytur) / (1+inflacja)\n",
    "    NPV_ZUS_list.append(NPV_ZUS_dyn)\n",
    "    \n",
    "projekcja_ZUS['NPV_ZUS'] = NPV_ZUS_list\n",
    "projekcja_ZUS['kapital_rok'] = kapital_rok\n",
    "projekcja_ZUS['ZUS_dodatek_emerytura'] = round(projekcja_ZUS['kapital_rok']/12, 2)\n",
    "\n",
    "print(\"Efekt wybrania ZUSu:\")\n",
    "print(\"W pierwszym roku emerytury zwiększy nam emeryturę o {} PLN\".format(projekcja_ZUS['ZUS_dodatek_emerytura'].iloc[0]))\n",
    "print(\"W {}. roku emerytury zwiększy nam emeryturę o {} PLN\".format(projekcja_ZUS.shape[0], projekcja_ZUS['ZUS_dodatek_emerytura'].iloc[projekcja_ZUS.shape[0]-1]))\n",
    "print(\"\\n\")\n",
    "print(\"Jeśli umrzemy wcześniej, wtedy niewykorzystany kapitał nie jest dziedziczony\")\n",
    "print(\"Jeśli przeżyjemy dłużej, po wyczerpaniu środków emerytura dalej jest waloryzowana o stopę nieco wyższą niż inflacja\")\n",
    "print(\"\\n\")\n",
    "print(\"Szanse: podwyższenie kwoty wolnej od podatku, obniżenie PIT, przeciętny lub dobry rozwój gospodarki Polski\")\n",
    "print(\"Zagrożenia: Ustawowe obniżenie emerytur, zawieszenie lub zmiana zasad waloryzacji kapitału, problemy z ZUS\")"
   ]
  },
  {
   "cell_type": "code",
   "execution_count": 8,
   "metadata": {},
   "outputs": [],
   "source": [
    "projekcja_ZUS_przez_pryzmat_oczekiwanej_dlugosci_zycia = pd.Series(range(1, oczekiwana_liczba_lat_na_emeryturze + 1), name='rok_emerytury').to_frame()\n",
    "empiryczna_waloryzacja = (projekcja_ZUS['ZUS_dodatek_emerytura'] / projekcja_ZUS['ZUS_dodatek_emerytura'].shift(1))[1:].mean()"
   ]
  },
  {
   "cell_type": "code",
   "execution_count": 9,
   "metadata": {},
   "outputs": [
    {
     "data": {
      "text/plain": [
       "[122.22,\n",
       " 123.17,\n",
       " 124.14,\n",
       " 125.1,\n",
       " 126.08,\n",
       " 127.06,\n",
       " 128.06,\n",
       " 129.06,\n",
       " 130.06,\n",
       " 131.08,\n",
       " 132.1,\n",
       " 133.13,\n",
       " 134.17,\n",
       " 135.22,\n",
       " 136.27,\n",
       " 137.34,\n",
       " 138.41,\n",
       " 139.49,\n",
       " 140.58,\n",
       " 141.68,\n",
       " 142.78,\n",
       " 143.9,\n",
       " 145.02,\n",
       " 146.15]"
      ]
     },
     "execution_count": 9,
     "metadata": {},
     "output_type": "execute_result"
    }
   ],
   "source": [
    "ZUS_dodatek_emerytura = [np.round(projekcja_ZUS['ZUS_dodatek_emerytura'][0] * np.power(empiryczna_waloryzacja, x), 2) for x in range(oczekiwana_liczba_lat_na_emeryturze)]\n",
    "ZUS_dodatek_emerytura"
   ]
  },
  {
   "cell_type": "code",
   "execution_count": 10,
   "metadata": {},
   "outputs": [],
   "source": [
    "projekcja_ZUS_przez_pryzmat_oczekiwanej_dlugosci_zycia['ZUS_dodatek_emerytura'] = ZUS_dodatek_emerytura"
   ]
  },
  {
   "cell_type": "code",
   "execution_count": 11,
   "metadata": {},
   "outputs": [
    {
     "data": {
      "text/plain": [
       "(0, 148.04000000000002)"
      ]
     },
     "execution_count": 11,
     "metadata": {},
     "output_type": "execute_result"
    },
    {
     "data": {
      "image/png": "[encoded data removed]",
      "text/plain": [
       "<Figure size 432x288 with 1 Axes>"
      ]
     },
     "metadata": {
      "needs_background": "light"
     },
     "output_type": "display_data"
    }
   ],
   "source": [
    "# Porównanie OFE->IKE vs. OFE->ZUS\n",
    "plt.plot(projekcja_IKE['rok_emerytury'], projekcja_IKE['IKE_dodatek_emerytura'])\n",
    "plt.plot(projekcja_ZUS_przez_pryzmat_oczekiwanej_dlugosci_zycia['rok_emerytury'], projekcja_ZUS_przez_pryzmat_oczekiwanej_dlugosci_zycia['ZUS_dodatek_emerytura'])\n",
    "plt.title('Dodatkowe pieniądze na emeryturę (po opodatkowaniu)')\n",
    "plt.legend()\n",
    "plt.ylim(0)"
   ]
  },
  {
   "cell_type": "code",
   "execution_count": 12,
   "metadata": {},
   "outputs": [
    {
     "name": "stdout",
     "output_type": "stream",
     "text": [
      "Wybranie ZUS zaowocuje średnio o 13.6% wyższym dodatkiem do emerytury\n"
     ]
    }
   ],
   "source": [
    "# Podsumowanie\n",
    "suma_dodatku_od_IKE = sum(projekcja_IKE['IKE_dodatek_emerytura'])*12\n",
    "suma_dodatku_od_ZUS = sum(projekcja_ZUS_przez_pryzmat_oczekiwanej_dlugosci_zycia['ZUS_dodatek_emerytura'])*12\n",
    "\n",
    "stosunek_ZUS_do_IKE = round((suma_dodatku_od_ZUS/suma_dodatku_od_IKE - 1)*100, 1)\n",
    "\n",
    "if suma_dodatku_od_ZUS > suma_dodatku_od_IKE:\n",
    "    print(\"Wybranie ZUS zaowocuje średnio o {}% wyższym dodatkiem do emerytury\".format(stosunek_ZUS_do_IKE))\n",
    "elif suma_dodatku_od_ZUS < suma_dodatku_od_IKE:\n",
    "    print(\"Wybranie ZUS zaowocuje średnio o {}% niższym dodatkiem do emerytury\".format(stosunek_ZUS_do_IKE))\n",
    "else:\n",
    "    print(\"ganz egal\")"
   ]
  },
  {
   "cell_type": "code",
   "execution_count": null,
   "metadata": {},
   "outputs": [],
   "source": []
  }
 ],
 "metadata": {
  "kernelspec": {
   "display_name": "Python 3",
   "language": "python",
   "name": "python3"
  },
  "language_info": {
   "codemirror_mode": {
    "name": "ipython",
    "version": 3
   },
   "file_extension": ".py",
   "mimetype": "text/x-python",
   "name": "python",
   "nbconvert_exporter": "python",
   "pygments_lexer": "ipython3",
   "version": "3.7.1"
  }
 },
 "nbformat": 4,
 "nbformat_minor": 4
}
